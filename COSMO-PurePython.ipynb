{
 "cells": [
  {
   "cell_type": "code",
   "execution_count": 1,
   "metadata": {},
   "outputs": [],
   "source": [
    "import pandas, numpy as np\n",
    "import matplotlib.pyplot as plt\n",
    "from collections import namedtuple\n",
    "import json\n",
    "import scipy.optimize"
   ]
  },
  {
   "cell_type": "code",
   "execution_count": 2,
   "metadata": {},
   "outputs": [
    {
     "name": "stdout",
     "output_type": "stream",
     "text": [
      "16466.721761795383 0.001987203585086042\n"
     ]
    }
   ],
   "source": [
    "q0 = 79.53 # [A^2]\n",
    "r0 = 66.69 # [A^3]\n",
    "z_coordination = 10\n",
    "c_hb = 85580.0 # kcal A^4 / mol/e^2\n",
    "R = 8.3144598/4184 # 0.001987 # but really: 8.3144598/4184\n",
    "sigma_hb = 0.0084\n",
    "EPS = 3.667 # (LIN AND SANDLER USE A CONSTANT FPOL WHICH YIELDS EPS=3.68)\n",
    "AEFFPRIME = 7.5\n",
    "EO = 2.395e-4\n",
    "FPOL = (EPS-1.0)/(EPS+0.5)\n",
    "ALPHA = (0.3*AEFFPRIME**(1.5))/(EO)\n",
    "alpha_prime = FPOL*ALPHA\n",
    "print(alpha_prime, R)"
   ]
  },
  {
   "cell_type": "code",
   "execution_count": 3,
   "metadata": {},
   "outputs": [],
   "source": [
    "sigma_tabulated = np.linspace(-0.025, 0.025, 51)\n",
    "sigma_m = np.tile(sigma_tabulated,(len(sigma_tabulated),1))\n",
    "sigma_n = np.tile(np.array(sigma_tabulated,ndmin=2).T,(1,len(sigma_tabulated)))\n",
    "sigma_acc = np.tril(sigma_n) + np.triu(sigma_m,1)\n",
    "sigma_don = np.tril(sigma_m) + np.triu(sigma_n,1)\n",
    "DELTAW = (alpha_prime/2)*(sigma_m + sigma_n)**2+ c_hb*np.maximum(0, sigma_acc - sigma_hb)*np.minimum(0, sigma_don+sigma_hb)"
   ]
  },
  {
   "cell_type": "code",
   "execution_count": 4,
   "metadata": {},
   "outputs": [],
   "source": [
    "class _fac(object):\n",
    "    def __init__(self, j):\n",
    "        assert(j['using_tau_r'])\n",
    "        self.T_r = j['T_r']\n",
    "        self.T_max = j['Tmax']\n",
    "        self.T_min = j['Tmin']\n",
    "        self.n = np.array(j['n'])\n",
    "        self.t = np.array(j['t'])\n",
    "        self.reducing_value = j['reducing_value']\n",
    "    \n",
    "    def psat(self, T):\n",
    "        theta = 1-T/self.T_r\n",
    "        RHS = np.dot(self.n,theta**self.t)\n",
    "        return self.reducing_value*np.exp(self.T_r/T*np.sum(RHS))\n",
    "    \n",
    "    def dpsat_dT(self, T):\n",
    "        im = 0+1j; h = 1e-10\n",
    "        return (self.psat(T+im*h)/h).imag\n",
    "        \n",
    "def psat_factory(fluid):\n",
    "    # Get the JSON structure from CoolProp\n",
    "    pS = json.loads(CP.get_fluid_param_string(fluid,'JSON'))[0]['ANCILLARIES']['pS']\n",
    "    return _fac(pS)\n",
    "    \n",
    "Ttest = 300\n",
    "import CoolProp.CoolProp as CP\n",
    "for fluid in ['Acetone','Water','Ethanol','Benzene']:\n",
    "    fac = psat_factory(fluid)\n",
    "    assert(abs(fac.psat(Ttest)-CP.PropsSI('P','T',Ttest,'Q',0,fluid))/fac.psat(Ttest) < 1e-3)\n",
    "    AS = CP.AbstractState('HEOS',fluid)\n",
    "    AS.update(CP.QT_INPUTS, 0, Ttest)\n",
    "    assert(abs(AS.first_saturation_deriv(CP.iP, CP.iT) - fac.dpsat_dT(Ttest))/fac.dpsat_dT(Ttest) < 1e-3)"
   ]
  },
  {
   "cell_type": "code",
   "execution_count": 5,
   "metadata": {},
   "outputs": [],
   "source": [
    "def get_sigma_profile(name):\n",
    "    df = pandas.read_csv('profiles/VT2005/Sigma_Profile_Database_Index_v2.txt', sep = '\\t')\n",
    "    mask = df['Compound Name'] == name\n",
    "    assert(sum(mask)==1)\n",
    "    index = int(df[mask]['Index No.'].iloc[0])\n",
    "    V_COSMO = float(df[mask]['Vcosmo, A3'].iloc[0])\n",
    "    with open('profiles/VT2005/Sigma_Profiles_v2/VT2005-'+'{0:04d}'.format(index)+'-PROF.txt') as fp:\n",
    "        dd = pandas.read_csv(fp,names=['sigma [e/A^2]','p(sigma)*A [A^2]'],sep='\\s+')\n",
    "        dd['A'] = dd['p(sigma)*A [A^2]'].sum()\n",
    "        dd['p(sigma)'] = dd['p(sigma)*A [A^2]']/dd['A']\n",
    "        return dd, V_COSMO"
   ]
  },
  {
   "cell_type": "code",
   "execution_count": 6,
   "metadata": {},
   "outputs": [],
   "source": [
    "def sigma_plots():\n",
    "    profs = [get_sigma_profile(n)[0] for n in ['ACETONE','CYCLOPENTANE']]\n",
    "    As = [prof['p(sigma)*A [A^2]'].sum() for prof in profs]\n",
    "    for prof in profs:\n",
    "        plt.plot(prof['sigma [e/A^2]'], prof['p(sigma)*A [A^2]']/prof['p(sigma)*A [A^2]'].max())\n",
    "    plt.figure()\n",
    "    x = [0.235000029,1-0.235000029]\n",
    "    psigma_mix = sum([x[i]*profs[i]['p(sigma)*A [A^2]'] for i in range(2)])/sum([x[i]*As[i] for i in range(2)])\n",
    "    plt.plot(profs[0]['sigma [e/A^2]'], psigma_mix);\n",
    "sigma_plots()"
   ]
  },
  {
   "cell_type": "code",
   "execution_count": 7,
   "metadata": {},
   "outputs": [],
   "source": [
    "def get_Gamma(T, psigma):\n",
    "    \"\"\"\n",
    "    Get the value of Γ (capital gamma) for the given sigma profile\n",
    "    \"\"\"\n",
    "    Gamma = np.ones_like(psigma)\n",
    "    AA = np.exp(-DELTAW/(R*T))*psigma # constant and can be pre-calculated outside of the loop\n",
    "    for i in range(50):\n",
    "        Gammanew = 1/np.sum(AA*Gamma, axis=1)\n",
    "        difference = np.abs((Gamma-Gammanew)/Gamma)\n",
    "        Gamma = (Gammanew + Gamma)/2\n",
    "        if np.max(difference) < 1e-8:\n",
    "            break\n",
    "        else:\n",
    "            pass\n",
    "    return Gamma\n",
    "\n",
    "def get_lngamma_resid(T, i, psigma_mix, prof, lnGamma_mix = None):\n",
    "    \"\"\"\n",
    "    The residual contribution to ln(γ_i)\n",
    "    \"\"\"\n",
    "    # For the mixture\n",
    "    if lnGamma_mix is None:\n",
    "        lnGamma_mix = np.log(get_Gamma(T, np.array(psigma_mix)))\n",
    "    # For this component\n",
    "    psigma = np.array(prof['p(sigma)'])\n",
    "    A_i = prof['A'].iloc[0]\n",
    "    lnGammai = np.log(get_Gamma(T, psigma))\n",
    "    lngammai = A_i/AEFFPRIME*np.sum(psigma*(lnGamma_mix - lnGammai))\n",
    "    return lngammai\n",
    "\n",
    "def get_lngamma_comb(T, x, i, profs, V_COSMO_A3):\n",
    "    \"\"\" \n",
    "    The combinatorial part of ln(γ_i)\n",
    "    \"\"\"\n",
    "    A = np.array([prof['p(sigma)*A [A^2]'].sum() for prof in profs])\n",
    "    q = A/q0\n",
    "    r = V_COSMO_A3/r0\n",
    "    theta_i = x[i]*q[i]/np.dot(x,q)\n",
    "    phi_i = x[i]*r[i]/np.dot(x,r)\n",
    "    l = z_coordination/2*(r-q) - (r-1)\n",
    "    return (np.log(phi_i/x[i])+z_coordination/2*q[i]*np.log(theta_i/phi_i)\n",
    "           +l[i]-phi_i/x[i]*np.dot(x,l))\n",
    "\n",
    "def get_lngamma(T, x, i, psigma_mix, profs, V_COSMO_A3, lnGamma_mix = None):\n",
    "    \"\"\" \n",
    "    Sum of the contributions to ln(γ_i)\n",
    "    \"\"\"\n",
    "    return (get_lngamma_resid(T, i, psigma_mix, profs[i], lnGamma_mix=lnGamma_mix) \n",
    "           + get_lngamma_comb(T, x, i, profs, V_COSMO_A3))"
   ]
  },
  {
   "cell_type": "code",
   "execution_count": 8,
   "metadata": {},
   "outputs": [
    {
     "name": "stdout",
     "output_type": "stream",
     "text": [
      "0 0.27806266299604\n",
      "1 0.02659344956283812\n"
     ]
    }
   ],
   "source": [
    "profs = [get_sigma_profile(n)[0] for n in ['ACETONE','CYCLOPENTANE']]\n",
    "As = [prof['p(sigma)*A [A^2]'].sum() for prof in profs]\n",
    "x = [0.235,1-0.235]\n",
    "T = 623.15\n",
    "psigma_mix = sum([x[i]*profs[i]['p(sigma)*A [A^2]'] for i in range(2)])/sum([x[i]*As[i] for i in range(2)])\n",
    "profs,V_COSMO_A3 = zip(*[get_sigma_profile(name) for name in ['ACETONE','CYCLOPENTANE']])\n",
    "V_COSMO_A3 = np.array(V_COSMO_A3)\n",
    "i = 0\n",
    "for i in range(2):\n",
    "    psigma_mix = sum([x[i]*profs[i]['p(sigma)*A [A^2]'] for i in range(2)])/sum([x[i]*As[i] for i in range(2)])\n",
    "    lnGamma_mix = np.log(get_Gamma(T, np.array(psigma_mix)))\n",
    "    print(i, get_lngamma_resid(T, i, psigma_mix, profs[i], lnGamma_mix=lnGamma_mix) )\n",
    "    get_lngamma(T, x, i, np.array(psigma_mix), profs, V_COSMO_A3, lnGamma_mix = lnGamma_mix)"
   ]
  }
 ],
 "metadata": {
  "kernelspec": {
   "display_name": "Python 3",
   "language": "python",
   "name": "python3"
  },
  "language_info": {
   "codemirror_mode": {
    "name": "ipython",
    "version": 3
   },
   "file_extension": ".py",
   "mimetype": "text/x-python",
   "name": "python",
   "nbconvert_exporter": "python",
   "pygments_lexer": "ipython3",
   "version": "3.6.0"
  }
 },
 "nbformat": 4,
 "nbformat_minor": 2
}
